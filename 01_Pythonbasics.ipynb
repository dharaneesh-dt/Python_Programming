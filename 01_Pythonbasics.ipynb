{
 "cells": [
  {
   "cell_type": "markdown",
   "id": "f6849383",
   "metadata": {},
   "source": [
    "Basics of Python\n"
   ]
  },
  {
   "cell_type": "code",
   "execution_count": 27,
   "id": "05abe709",
   "metadata": {},
   "outputs": [
    {
     "name": "stdout",
     "output_type": "stream",
     "text": [
      "Access given\n"
     ]
    }
   ],
   "source": [
    "a=1\n",
    "b=10\n",
    "\n",
    "a!=b\n",
    "\n",
    "#if\n",
    "saved_password = 1010\n",
    "new_pass = 1010\n",
    "if saved_password == new_pass:\n",
    "    print('Access given')\n",
    "else:\n",
    "    print('Access not given')\n",
    "\n",
    "\n"
   ]
  },
  {
   "cell_type": "code",
   "execution_count": 28,
   "id": "be3f76df",
   "metadata": {},
   "outputs": [
    {
     "name": "stdout",
     "output_type": "stream",
     "text": [
      "Try again\n"
     ]
    }
   ],
   "source": [
    "saved_password = 1010\n",
    "new_pass = 1012\n",
    "\n",
    "if saved_password == new_pass:\n",
    "    print('Access given')\n",
    "else:\n",
    "    print('Try again')"
   ]
  },
  {
   "cell_type": "code",
   "execution_count": null,
   "id": "d4cd367d",
   "metadata": {},
   "outputs": [],
   "source": []
  }
 ],
 "metadata": {
  "kernelspec": {
   "display_name": "Python 3",
   "language": "python",
   "name": "python3"
  },
  "language_info": {
   "codemirror_mode": {
    "name": "ipython",
    "version": 3
   },
   "file_extension": ".py",
   "mimetype": "text/x-python",
   "name": "python",
   "nbconvert_exporter": "python",
   "pygments_lexer": "ipython3",
   "version": "3.13.5"
  }
 },
 "nbformat": 4,
 "nbformat_minor": 5
}
